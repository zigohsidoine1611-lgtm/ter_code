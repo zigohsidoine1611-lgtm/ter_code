{
 "cells": [
  {
   "cell_type": "code",
   "execution_count": 23,
   "id": "5a8d877b-8a73-4717-948b-b559494977d1",
   "metadata": {},
   "outputs": [],
   "source": [
    "import numpy as np\n",
    "from matplotlib import pyplot as plt,gridspec as gs\n",
    "from afbf import tbfield,perfunction,coordinates,sdata\n",
    "import os"
   ]
  },
  {
   "cell_type": "code",
   "execution_count": 24,
   "id": "c47d26d6-0fbd-4cc5-9e21-7307bcfb5066",
   "metadata": {},
   "outputs": [],
   "source": [
    "# Taille de l'image\n",
    "N=256\n",
    "# Coordonnees pour synthetiser les image\n",
    "coord=coordinates(N)\n",
    "# Echantillonnage uniforme de l'espace\n",
    "lags=coordinates()\n",
    "lags.DefineUniformGrid(N,step=1,signed=True)"
   ]
  },
  {
   "cell_type": "code",
   "execution_count": 25,
   "id": "76a3c2b4",
   "metadata": {},
   "outputs": [],
   "source": [
    "# Données pour estimer l'orientation\n",
    "pi=np.pi\n",
    "H_set_o=np.r_[0.01,0.25,0.35,0.45,0.5,0.65,0.75,0.85,0.99]\n",
    "delta_set_o=np.r_[pi/64,9*pi/128,pi/8,3*pi/16,pi/4,5*pi/16,3*pi/8,7*pi/16,pi/2]\n",
    "alpha_set_o=np.r_[-pi/2,-pi/6,0,pi/4,pi/3]\n",
    "\n",
    "# Données pour estimer H et delta\n",
    "theta1=pi/2\n",
    "H_set=np.r_[0.01,0.15,0.25,0.35,0.45,0.5,0.65,0.75,0.85,0.99]\n",
    "delta_set=np.r_[pi/64,9*pi/128,pi/8,3*pi/16,pi/4,5*pi/16,3*pi/8,7*pi/16,pi/2]"
   ]
  },
  {
   "cell_type": "code",
   "execution_count": 43,
   "id": "ea546b91-c9f3-4c33-9343-bc7db4821bac",
   "metadata": {},
   "outputs": [],
   "source": [
    "def nb_realstof_each(H_set,delta_set,alpha_set=None,nb_realst=1,file_dir='carrent_env',save=False):\n",
    "    '''\n",
    "    Entrée:\\n'\n",
    "    H_set: Tableau d'indices de Hurst.\\n\n",
    "    delta_set: Tableau de demi-ouvertures du cone fréquentiel.\\n\n",
    "    alpha: Tableau d'orientations du cone fréquentiel.\\n\n",
    "    nb_realst: Nombre de réalisations d'un champ de paramètre (H,delta,alpha)\n",
    "    file_dir: Chemin de sauvgarde\n",
    "    save: Bouléenne. Si True les données sont sauvegardées.\n",
    "    Sortie:\\n'\n",
    "    nb_réalst réalisation(s) de chaque champ élémentaire.\n",
    "    '''\n",
    "    if (alpha_set==None).all():\n",
    "        HDA=[];n=1\n",
    "        for h in H_set:\n",
    "            for d in delta_set:\n",
    "                HDA.append([h,d])\n",
    "    else:\n",
    "        HDA=[];n=2\n",
    "        for h in H_set:\n",
    "            for d in delta_set:\n",
    "                for a in alpha_set:\n",
    "                    HDA.append([h,d,a])\n",
    "    j=0\n",
    "    np.random.seed(1)\n",
    "    for hda in HDA:\n",
    "        nb=0\n",
    "        while nb<nb_realst:\n",
    "            name='H='+str(hda[0])+'_delta='+str(hda[1])+'_alpha='+str(hda[n])+'_nb='+str(nb)+'.npy'\n",
    "            if os.path.exists(file_dir+name)==False:\n",
    "                np.random.seed(1)\n",
    "                # Definition du champ\n",
    "                Z=tbfield('efbf')\n",
    "                # Modification des parametres du champ\n",
    "                Z.hurst.ChangeParameters(fparam=np.r_[hda[0]])\n",
    "                Z.topo.ChangeParameters(fparam=np.r_[0,1],finter=np.r_[-hda[1],hda[1]])\n",
    "                Z.topo.ApplyTransforms(translate=-hda[n])\n",
    "                Z.ComputeFeatures()     \n",
    "                # Simulation\n",
    "                z=Z.Simulate(coord)\n",
    "                # Sauvegarde du champ\n",
    "                if save!=None:\n",
    "                    np.save(file_dir+'H='+str(hda[0])+'_delta='+str(hda[1])+'_alpha='+str(hda[n])+'_nb='+str(nb),z.values.reshape(z.M),)\n",
    "            else:\n",
    "                print(...)\n",
    "            nb+=1\n",
    "        j+=1\n",
    "        print(j)"
   ]
  }
 ],
 "metadata": {
  "kernelspec": {
   "display_name": "env_py_31113",
   "language": "python",
   "name": "python3"
  },
  "language_info": {
   "codemirror_mode": {
    "name": "ipython",
    "version": 3
   },
   "file_extension": ".py",
   "mimetype": "text/x-python",
   "name": "python",
   "nbconvert_exporter": "python",
   "pygments_lexer": "ipython3",
   "version": "3.11.13"
  }
 },
 "nbformat": 4,
 "nbformat_minor": 5
}
